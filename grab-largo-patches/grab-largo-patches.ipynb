{
 "cells": [
  {
   "attachments": {},
   "cell_type": "markdown",
   "metadata": {},
   "source": [
    "### Install packages"
   ]
  },
  {
   "cell_type": "code",
   "execution_count": null,
   "metadata": {},
   "outputs": [],
   "source": [
    "%pip install nest-asyncio       #we only need this for jupyter notebooks\n",
    "%pip install aiohttp\n",
    "%pip install aiofiles\n",
    "!wget https://raw.githubusercontent.com/biigle/community-scripts/async-grab-largo-patches/biigle/biigle.py"
   ]
  },
  {
   "attachments": {},
   "cell_type": "markdown",
   "metadata": {},
   "source": [
    "### Import all needed modules"
   ]
  },
  {
   "cell_type": "code",
   "execution_count": null,
   "metadata": {},
   "outputs": [],
   "source": [
    "from biigle import Api\n",
    "import os\n",
    "import nest_asyncio                   #we only need this for jupyter notebooks         \n",
    "nest_asyncio.apply()\n",
    "import asyncio\n",
    "import aiohttp \n",
    "import aiofiles"
   ]
  },
  {
   "attachments": {},
   "cell_type": "markdown",
   "metadata": {},
   "source": [
    "### Enter Biigle Credentials and the volume/project and label id you are interested in"
   ]
  },
  {
   "cell_type": "code",
   "execution_count": null,
   "metadata": {},
   "outputs": [],
   "source": [
    "# # Enter your user email address here.\n",
    "email = ''\n",
    "# # Enter your API token here.\n",
    "token = ''\n",
    "# Type of the model to process (either project or volume)\n",
    "model_type = 'project'\n",
    "# ID of the project/volume to process.\n",
    "model_id = 0\n",
    "# ID of the label to fetch Largo patches for.\n",
    "label_id = 0"
   ]
  },
  {
   "attachments": {},
   "cell_type": "markdown",
   "metadata": {},
   "source": [
    "### Create api endpoint and fetch annotation ids and respective image uuids"
   ]
  },
  {
   "cell_type": "code",
   "execution_count": 1,
   "metadata": {},
   "outputs": [
    {
     "ename": "NameError",
     "evalue": "name 'Api' is not defined",
     "output_type": "error",
     "traceback": [
      "\u001b[0;31m---------------------------------------------------------------------------\u001b[0m",
      "\u001b[0;31mNameError\u001b[0m                                 Traceback (most recent call last)",
      "\u001b[0;32m<ipython-input-1-44f22e6849e8>\u001b[0m in \u001b[0;36m<module>\u001b[0;34m\u001b[0m\n\u001b[0;32m----> 1\u001b[0;31m \u001b[0mapi\u001b[0m \u001b[0;34m=\u001b[0m \u001b[0mApi\u001b[0m\u001b[0;34m(\u001b[0m\u001b[0memail\u001b[0m\u001b[0;34m,\u001b[0m \u001b[0mtoken\u001b[0m\u001b[0;34m)\u001b[0m\u001b[0;34m\u001b[0m\u001b[0;34m\u001b[0m\u001b[0m\n\u001b[0m\u001b[1;32m      2\u001b[0m \u001b[0mannotations\u001b[0m \u001b[0;34m=\u001b[0m \u001b[0mapi\u001b[0m\u001b[0;34m.\u001b[0m\u001b[0mget\u001b[0m\u001b[0;34m(\u001b[0m\u001b[0;34mf\"{model_type}s/{model_id}/image-annotations/filter/label/{label_id}\"\u001b[0m\u001b[0;34m)\u001b[0m\u001b[0;34m.\u001b[0m\u001b[0mjson\u001b[0m\u001b[0;34m(\u001b[0m\u001b[0;34m)\u001b[0m\u001b[0;34m\u001b[0m\u001b[0;34m\u001b[0m\u001b[0m\n",
      "\u001b[0;31mNameError\u001b[0m: name 'Api' is not defined"
     ]
    }
   ],
   "source": [
    "api = Api(email, token)\n",
    "annotations = api.get(f\"{model_type}s/{model_id}/image-annotations/filter/label/{label_id}\").json()"
   ]
  },
  {
   "attachments": {},
   "cell_type": "markdown",
   "metadata": {},
   "source": [
    "### define function to async download images"
   ]
  },
  {
   "cell_type": "code",
   "execution_count": null,
   "metadata": {},
   "outputs": [],
   "source": [
    "def asyncDownloadImages(annotations, numberConccurentTasks=10):\n",
    "    os.makedirs(str(label_id), exist_ok=True)\n",
    "    sema = asyncio.BoundedSemaphore(numberConccurentTasks)\n",
    "\n",
    "    async def fetch_file(annotation_id, image_uuid):\n",
    "        patch_url = 'https://biigle.de/storage/largo-patches/{}/{}/{}/{}.jpg'\n",
    "        url = patch_url.format(image_uuid[:2], image_uuid[2:4], image_uuid, annotation_id)\n",
    "        fname = url.split(\"/\")[-1]\n",
    "        async with sema, aiohttp.ClientSession() as session:\n",
    "            async with session.get(url) as resp:\n",
    "                assert resp.status == 200\n",
    "                data = await resp.read()\n",
    "\n",
    "        async with aiofiles.open(\n",
    "            os.path.join(str(label_id), fname), \"wb\"\n",
    "        ) as outfile:\n",
    "            await outfile.write(data)\n",
    "\n",
    "    loop = asyncio.get_event_loop()\n",
    "    tasks = [loop.create_task(fetch_file(annotation_id, image_uuid )) for annotation_id, image_uuid  in annotations.items()]\n",
    "    loop.run_until_complete(asyncio.wait(tasks))"
   ]
  },
  {
   "attachments": {},
   "cell_type": "markdown",
   "metadata": {},
   "source": [
    "### execute the function and download the images"
   ]
  },
  {
   "cell_type": "code",
   "execution_count": null,
   "metadata": {},
   "outputs": [],
   "source": [
    "asyncDownloadImages(annotations)"
   ]
  }
 ],
 "metadata": {
  "kernelspec": {
   "display_name": "Python 3",
   "language": "python",
   "name": "python3"
  },
  "language_info": {
   "codemirror_mode": {
    "name": "ipython",
    "version": 3
   },
   "file_extension": ".py",
   "mimetype": "text/x-python",
   "name": "python",
   "nbconvert_exporter": "python",
   "pygments_lexer": "ipython3",
   "version": "3.9.1"
  },
  "orig_nbformat": 4,
  "vscode": {
   "interpreter": {
    "hash": "aee8b7b246df8f9039afb4144a1f6fd8d2ca17a180786b69acc140d282b71a49"
   }
  }
 },
 "nbformat": 4,
 "nbformat_minor": 2
}
