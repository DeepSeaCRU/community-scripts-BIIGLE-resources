{
 "cells": [
  {
   "attachments": {},
   "cell_type": "markdown",
   "metadata": {},
   "source": [
    "<a target=\"_blank\" href=\"https://colab.research.google.com/github/biigle/community-scripts/blob/async-grab-largo-patches/grab-largo-patches/grab-largo-patches.ipynb\">\n",
    "  <img src=\"https://colab.research.google.com/assets/colab-badge.svg\" alt=\"Open In Colab\"/>\n",
    "</a>"
   ]
  },
  {
   "attachments": {},
   "cell_type": "markdown",
   "metadata": {},
   "source": [
    "### Install packages"
   ]
  },
  {
   "cell_type": "code",
   "execution_count": null,
   "metadata": {},
   "outputs": [],
   "source": [
    "%pip install nest-asyncio       #we only need this for jupyter notebooks\n",
    "%pip install aiohttp\n",
    "%pip install aiofiles\n",
    "%pip install tqdm\n",
    "!wget https://raw.githubusercontent.com/biigle/community-scripts/master/biigle/biigle.py"
   ]
  },
  {
   "attachments": {},
   "cell_type": "markdown",
   "metadata": {},
   "source": [
    "### Import all needed modules"
   ]
  },
  {
   "cell_type": "code",
   "execution_count": null,
   "metadata": {},
   "outputs": [],
   "source": [
    "from biigle import Api\n",
    "import os\n",
    "import nest_asyncio                   #we only need this for jupyter notebooks         \n",
    "nest_asyncio.apply()\n",
    "import asyncio\n",
    "import aiohttp \n",
    "import aiofiles\n",
    "import shutil\n",
    "import tqdm"
   ]
  },
  {
   "attachments": {},
   "cell_type": "markdown",
   "metadata": {},
   "source": [
    "### Enter Biigle Credentials and the volume/project and label id you are interested in"
   ]
  },
  {
   "cell_type": "code",
   "execution_count": null,
   "metadata": {},
   "outputs": [],
   "source": [
    "# # Enter your user email address here.\n",
    "email = ''\n",
    "# # Enter your API token here.\n",
    "token = ''\n",
    "# Type of the model to process (either project or volume)\n",
    "model_type = 'project'\n",
    "# ID of the project/volume to process.\n",
    "model_id = 0\n",
    "# ID of the label to fetch Largo patches for. select -1 for all labels.\n",
    "label_id = -1"
   ]
  },
  {
   "attachments": {},
   "cell_type": "markdown",
   "metadata": {},
   "source": [
    "### Create api endpoint"
   ]
  },
  {
   "cell_type": "code",
   "execution_count": null,
   "metadata": {},
   "outputs": [],
   "source": [
    "api = Api(email,token)"
   ]
  },
  {
   "attachments": {},
   "cell_type": "markdown",
   "metadata": {},
   "source": [
    "### If label ids is set to -1 fetch all available labels. Get the labels in said project or volume."
   ]
  },
  {
   "cell_type": "code",
   "execution_count": null,
   "metadata": {},
   "outputs": [],
   "source": [
    "labels = []\n",
    "#all labels\n",
    "\n",
    "# if a project is requested get all label-trees which are used and their respective labels\n",
    "if model_type == 'project': #\n",
    "    labelresponse=api.get(f\"projects/{model_id}/label-trees\").json()\n",
    "    labels = [[label['id'],label['name']] for labeltree in labelresponse for label in labeltree['labels']]\n",
    "# if a volume is requested get all used labels\n",
    "else:\n",
    "    labelresponse=api.get(f\"volumes/{model_id}/annotation-labels\").json()\n",
    "    labels = [[label['id'],label['name']] for label in labelresponse]\n",
    "\n",
    "#only one label\n",
    "if label_id != -1:\n",
    "    # as there is no api function to provide the name for a label id, we just filter the results of all laebels\n",
    "    labels = [[label[0],label[1]] for label in labels if label[0]==29]"
   ]
  },
  {
   "attachments": {},
   "cell_type": "markdown",
   "metadata": {},
   "source": [
    "### define function to async download images"
   ]
  },
  {
   "cell_type": "code",
   "execution_count": null,
   "metadata": {},
   "outputs": [],
   "source": [
    "def asyncDownloadImages(annotations,id,name, numberConccurentTasks=10):\n",
    "    os.makedirs(f\"patches/{id}_{name}\", exist_ok=True)\n",
    "    sema = asyncio.BoundedSemaphore(numberConccurentTasks)\n",
    "\n",
    "    async def fetch_file(annotation_id, image_uuid):\n",
    "        patch_url = 'https://biigle.de/storage/largo-patches/{}/{}/{}/{}.jpg'\n",
    "        url = patch_url.format(image_uuid[:2], image_uuid[2:4], image_uuid, annotation_id)\n",
    "        fname = url.split(\"/\")[-1]\n",
    "        async with sema, aiohttp.ClientSession() as session:\n",
    "            async with session.get(url) as resp:\n",
    "                assert resp.status == 200\n",
    "                data = await resp.read()\n",
    "\n",
    "        async with aiofiles.open(\n",
    "            os.path.join(f\"patches/{id}_{name}\", fname), \"wb\"\n",
    "        ) as outfile:\n",
    "            await outfile.write(data)\n",
    "\n",
    "    loop = asyncio.get_event_loop()\n",
    "    tasks = [loop.create_task(fetch_file(annotation_id, image_uuid )) for annotation_id, image_uuid  in annotations.items()]\n",
    "    loop.run_until_complete(asyncio.wait(tasks))"
   ]
  },
  {
   "attachments": {},
   "cell_type": "markdown",
   "metadata": {},
   "source": [
    "### fetch annotation ids and respective image uuids and execute the asyncDownloadImages function to download the images"
   ]
  },
  {
   "cell_type": "code",
   "execution_count": null,
   "metadata": {},
   "outputs": [],
   "source": [
    "for lbl_id,lbl_name in tqdm.tqdm(labels):\n",
    "    annotations = api.get(f\"{model_type}s/{model_id}/image-annotations/filter/label/{lbl_id}\").json()\n",
    "    if annotations:\n",
    "        asyncDownloadImages(annotations,lbl_id,lbl_name)"
   ]
  },
  {
   "attachments": {},
   "cell_type": "markdown",
   "metadata": {},
   "source": [
    "### after all is donwloaded zip it to one file for easier downloading\n"
   ]
  },
  {
   "cell_type": "code",
   "execution_count": null,
   "metadata": {},
   "outputs": [],
   "source": [
    "shutil.make_archive('patches', 'zip', 'patches')"
   ]
  }
 ],
 "metadata": {
  "kernelspec": {
   "display_name": "Python 3",
   "language": "python",
   "name": "python3"
  },
  "language_info": {
   "codemirror_mode": {
    "name": "ipython",
    "version": 3
   },
   "file_extension": ".py",
   "mimetype": "text/x-python",
   "name": "python",
   "nbconvert_exporter": "python",
   "pygments_lexer": "ipython3",
   "version": "3.9.1"
  },
  "orig_nbformat": 4,
  "vscode": {
   "interpreter": {
    "hash": "aee8b7b246df8f9039afb4144a1f6fd8d2ca17a180786b69acc140d282b71a49"
   }
  }
 },
 "nbformat": 4,
 "nbformat_minor": 2
}
